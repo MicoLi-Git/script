{
 "cells": [
  {
   "cell_type": "markdown",
   "id": "e7c7e754-856d-40f8-bacf-ec96431c28db",
   "metadata": {},
   "source": [
    "# Data Science Tools and Ecosystem"
   ]
  },
  {
   "cell_type": "markdown",
   "id": "18d4c03d-2f90-4dde-9caf-35189fd853eb",
   "metadata": {},
   "source": [
    " In this notebook, Data Science Tools and Ecosystem are summarized."
   ]
  },
  {
   "cell_type": "markdown",
   "id": "b433a261-259c-4074-8c23-1f9559182069",
   "metadata": {},
   "source": [
    "Some of the popular languages that Data Scientists use are:\n"
   ]
  },
  {
   "cell_type": "markdown",
   "id": "edb43a07-8a13-4960-a72a-3a82e48f90f1",
   "metadata": {},
   "source": [
    "1. Python\n",
    "2. R\n",
    "3. SQL"
   ]
  },
  {
   "cell_type": "markdown",
   "id": "4ea1488c-ff22-4c84-883a-3c993412d80f",
   "metadata": {},
   "source": [
    "Some of the commonly used libraries used by Data Scientists include:\n",
    "1. Numpy\n",
    "2. Pandas\n",
    "3. Pytorch"
   ]
  },
  {
   "cell_type": "markdown",
   "id": "35882589-e12c-4a49-8e78-d82a2c1d6d38",
   "metadata": {},
   "source": [
    "| Data Science Tools |\n",
    "| ------------------ |\n",
    "| Python |\n",
    "| R |\n",
    "| SQL |"
   ]
  },
  {
   "cell_type": "markdown",
   "id": "2f88f2d3-2d61-4944-9490-4a2b16476c96",
   "metadata": {},
   "source": [
    "### Below are a few examples of evaluating arithmetic expressions in Python."
   ]
  },
  {
   "cell_type": "code",
   "execution_count": 10,
   "id": "de8109eb-d064-43cb-b41a-4da65ebe71bb",
   "metadata": {},
   "outputs": [
    {
     "data": {
      "text/plain": [
       "17"
      ]
     },
     "execution_count": 10,
     "metadata": {},
     "output_type": "execute_result"
    }
   ],
   "source": [
    "#This a simple arithmetic expression to mutiply then add integers\n",
    "(3*4)+5"
   ]
  },
  {
   "cell_type": "code",
   "execution_count": 13,
   "id": "b32ca407-8c23-43d4-a6ab-e89461f2e8f8",
   "metadata": {},
   "outputs": [
    {
     "data": {
      "text/plain": [
       "3.3333333333333335"
      ]
     },
     "execution_count": 13,
     "metadata": {},
     "output_type": "execute_result"
    }
   ],
   "source": [
    "#This will convert 200 minutes to hours by diving by 60\n",
    "200/60"
   ]
  },
  {
   "cell_type": "markdown",
   "id": "d021b0ec-223f-4dee-9239-bccdfd544de9",
   "metadata": {},
   "source": [
    "**Objectives:**\n",
    "\n",
    "- Programming tools\n",
    "- Python libraries\n",
    "- Programming Enviornmenta"
   ]
  },
  {
   "cell_type": "markdown",
   "id": "9dd45f2d-1bfe-4cba-ad64-2f5933c77697",
   "metadata": {},
   "source": [
    "## Author\n",
    "Mengchao Li"
   ]
  },
  {
   "cell_type": "code",
   "execution_count": null,
   "id": "8440e397-c16e-4c76-acc3-59bf8367a3df",
   "metadata": {},
   "outputs": [],
   "source": []
  }
 ],
 "metadata": {
  "kernelspec": {
   "display_name": "Python 3 (ipykernel)",
   "language": "python",
   "name": "python3"
  },
  "language_info": {
   "codemirror_mode": {
    "name": "ipython",
    "version": 3
   },
   "file_extension": ".py",
   "mimetype": "text/x-python",
   "name": "python",
   "nbconvert_exporter": "python",
   "pygments_lexer": "ipython3",
   "version": "3.12.7"
  }
 },
 "nbformat": 4,
 "nbformat_minor": 5
}
